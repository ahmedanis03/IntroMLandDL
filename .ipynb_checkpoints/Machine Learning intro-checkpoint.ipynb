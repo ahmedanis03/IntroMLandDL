{
 "cells": [
  {
   "cell_type": "code",
   "execution_count": 110,
   "metadata": {
    "collapsed": false
   },
   "outputs": [],
   "source": [
    "import numpy as np\n",
    "import matplotlib.pyplot as plt\n",
    "%matplotlib inline\n",
    "\n",
    "def display_gif(fn):\n",
    "    from IPython import display\n",
    "    return display.HTML('<img src=\"{}\">'.format(fn))"
   ]
  },
  {
   "cell_type": "markdown",
   "metadata": {},
   "source": [
    "# Is machine learning math a rocket science?! "
   ]
  },
  {
   "cell_type": "markdown",
   "metadata": {},
   "source": [
    "Any machine learning algorithm consist off:\n",
    "1. Model representation\n",
    "2. Cost function (target function) \n",
    "3. optimization function"
   ]
  },
  {
   "cell_type": "markdown",
   "metadata": {},
   "source": [
    "## Model representation: "
   ]
  },
  {
   "cell_type": "markdown",
   "metadata": {},
   "source": [
    "Assume the following:\n",
    "1. We have a house size: $x$\n",
    "2. a house price $y$\n",
    "$$ x = \\begin{bmatrix}\n",
    "    1 & 2 & 3\n",
    "\\end{bmatrix}$$\n",
    "\n",
    "$$ y = \\begin{bmatrix}\n",
    "    1 & 2 & 3\n",
    "\\end{bmatrix}$$\n",
    "\n"
   ]
  },
  {
   "cell_type": "code",
   "execution_count": 104,
   "metadata": {
    "collapsed": false
   },
   "outputs": [
    {
     "data": {
      "text/plain": [
       "([<matplotlib.axis.YTick at 0xa7f2cf8>,\n",
       "  <matplotlib.axis.YTick at 0x8f72978>,\n",
       "  <matplotlib.axis.YTick at 0xaad0a90>,\n",
       "  <matplotlib.axis.YTick at 0xaad55c0>,\n",
       "  <matplotlib.axis.YTick at 0xaadc048>],\n",
       " <a list of 5 Text yticklabel objects>)"
      ]
     },
     "execution_count": 104,
     "metadata": {},
     "output_type": "execute_result"
    },
    {
     "data": {
      "image/png": "[encoded data removed]",
      "text/plain": [
       "<matplotlib.figure.Figure at 0xa9b78d0>"
      ]
     },
     "metadata": {},
     "output_type": "display_data"
    }
   ],
   "source": [
    "x = np.array([1,2,3])\n",
    "y = np.array([1,2,3])\n",
    "plt.plot(x,y,'ro')\n",
    "plt.axis([0,4,0,4])\n",
    "plt.xticks([0,1,2,3,4])\n",
    "plt.yticks([0,1,2,3,4])"
   ]
  },
  {
   "cell_type": "markdown",
   "metadata": {},
   "source": [
    "So what is a basic representation for this ??"
   ]
  },
  {
   "cell_type": "markdown",
   "metadata": {},
   "source": [
    "Exactly !!\n",
    "$$ \n",
    "y = some\\ coofficient * x \\\\\n",
    "y = \\beta * x $$\n",
    "\n",
    "and we can represent y as $f(x)$ so\n",
    "$$ f(x) = \\beta * x $$"
   ]
  },
  {
   "cell_type": "markdown",
   "metadata": {},
   "source": [
    "# Cost function:\n"
   ]
  },
  {
   "cell_type": "markdown",
   "metadata": {},
   "source": [
    "Why do we even need one?\n",
    "because we need a formalized representation. Why?\n",
    "\n",
    "something the computer can understand for what happening in our minds :D "
   ]
  },
  {
   "cell_type": "markdown",
   "metadata": {},
   "source": [
    "### let's invent our cost function:\n",
    "$$ cost = f(x) - y \\\\\n",
    "= \\big(\\ f(x) - y \\ \\big) ^ 2 \\\\\n",
    "= \\sum_{i = 0}^n \\big(\\ f(x_i) - y_i \\ \\big) ^ 2 \\\\\n",
    "= \\dfrac{1}{n} \\sum_{i = 0}^n \\big(\\ f(x_i) - y_i \\ \\big) ^ 2 \\\\\n",
    "= \\dfrac{1}{2n} \\sum_{i = 0}^n \\big(\\ f(x_i) - y_i \\ \\big) ^ 2\n",
    "$$\n",
    "\n",
    "so what is this? \n",
    "### Mean Square Error Cost Function\n"
   ]
  },
  {
   "cell_type": "markdown",
   "metadata": {},
   "source": [
    "## Minimize the Cost:"
   ]
  },
  {
   "cell_type": "markdown",
   "metadata": {},
   "source": [
    "Our model: $ f(x) = \\beta + x $\n",
    "\n",
    "Our cost function: $ = \\dfrac{1}{2n} \\sum_{i = 0}^n \\big(\\ f(x_i) - y_i \\ \\big) ^ 2 $\n",
    "\n",
    "after subsstatution: $$ \\dfrac{1}{2n} \\sum_{i = 0}^n \\big(\\ (\\beta * x_i) - y_i \\ \\big) ^ 2 $$"
   ]
  },
  {
   "cell_type": "code",
   "execution_count": 105,
   "metadata": {
    "collapsed": false
   },
   "outputs": [
    {
     "data": {
      "text/plain": [
       "<matplotlib.text.Text at 0xaaf7400>"
      ]
     },
     "execution_count": 105,
     "metadata": {},
     "output_type": "execute_result"
    },
    {
     "data": {
      "image/png": "[encoded data removed]",
      "text/plain": [
       "<matplotlib.figure.Figure at 0x8d4ba90>"
      ]
     },
     "metadata": {},
     "output_type": "display_data"
    }
   ],
   "source": [
    "beta = np.arange(0,2.1,0.1)\n",
    "def cost(y, y_hat):\n",
    "    n = len(y)\n",
    "    return (((y_hat - y)**2).sum()) / n\n",
    "\n",
    "beta_applied = np.array([a*b for a,b in zip(beta,np.array([x,]*len(beta)))])\n",
    "loss = [cost(y, y_hat) for y_hat in beta_applied]\n",
    "plt.plot(beta,loss)\n",
    "plt.xlabel(r'$\\beta$')\n",
    "plt.ylabel('Loss')"
   ]
  },
  {
   "cell_type": "markdown",
   "metadata": {},
   "source": [
    "So again how to formalize that $\\beta$ should be 1\n",
    "\n",
    "how to search for the best $\\beta$?\n",
    "\n",
    "how to minmize the cost function using $\\beta$?\n",
    "\n",
    "$\\underset{\\beta}{\\operatorname{argmin}} \\dfrac{1}{2n} \\sum_{i = 0}^n \\big(\\ (\\beta * x_i) - y_i \\ \\big) ^ 2 $"
   ]
  },
  {
   "cell_type": "markdown",
   "metadata": {},
   "source": [
    "## Graident (derivative)"
   ]
  },
  {
   "cell_type": "code",
   "execution_count": 112,
   "metadata": {
    "collapsed": false
   },
   "outputs": [
    {
     "data": {
      "text/html": [
       "<img src=\"https://upload.wikimedia.org/wikipedia/commons/2/2d/Tangent_function_animation.gif\">"
      ],
      "text/plain": [
       "<IPython.core.display.HTML object>"
      ]
     },
     "execution_count": 112,
     "metadata": {},
     "output_type": "execute_result"
    }
   ],
   "source": [
    "display_gif(\"https://upload.wikimedia.org/wikipedia/commons/2/2d/Tangent_function_animation.gif\")"
   ]
  },
  {
   "cell_type": "code",
   "execution_count": null,
   "metadata": {
    "collapsed": true
   },
   "outputs": [],
   "source": []
  }
 ],
 "metadata": {
  "kernelspec": {
   "display_name": "Python 3",
   "language": "python",
   "name": "python3"
  },
  "language_info": {
   "codemirror_mode": {
    "name": "ipython",
    "version": 3
   },
   "file_extension": ".py",
   "mimetype": "text/x-python",
   "name": "python",
   "nbconvert_exporter": "python",
   "pygments_lexer": "ipython3",
   "version": "3.6.0"
  }
 },
 "nbformat": 4,
 "nbformat_minor": 2
}
