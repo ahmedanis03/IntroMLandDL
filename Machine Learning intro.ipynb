{
 "cells": [
  {
   "cell_type": "code",
   "execution_count": 1,
   "metadata": {
    "collapsed": false,
    "slideshow": {
     "slide_type": "skip"
    }
   },
   "outputs": [],
   "source": [
    "import numpy as np\n",
    "import matplotlib.pyplot as plt\n",
    "%matplotlib inline\n",
    "\n",
    "def display_gif(fn):\n",
    "    from IPython import display\n",
    "    return display.HTML('<img src=\"{}\">'.format(fn))"
   ]
  },
  {
   "cell_type": "markdown",
   "metadata": {
    "slideshow": {
     "slide_type": "slide"
    }
   },
   "source": [
    "# Is machine learning math a rocket science?! "
   ]
  },
  {
   "cell_type": "markdown",
   "metadata": {
    "slideshow": {
     "slide_type": "slide"
    }
   },
   "source": [
    "Any machine learning model consist off:\n",
    "1. Model representation\n",
    "2. Cost function (target function) \n",
    "3. optimization function"
   ]
  },
  {
   "cell_type": "markdown",
   "metadata": {
    "slideshow": {
     "slide_type": "slide"
    }
   },
   "source": [
    "## Model representation: "
   ]
  },
  {
   "cell_type": "markdown",
   "metadata": {
    "slideshow": {
     "slide_type": "fragment"
    }
   },
   "source": [
    "Assume the following:\n",
    "1. We have a house size: $x$\n",
    "2. a house price $y$\n",
    "$$ x = \\begin{bmatrix}\n",
    "    1 & 2 & 3\n",
    "\\end{bmatrix}$$\n",
    "\n",
    "$$ y = \\begin{bmatrix}\n",
    "    1 & 2 & 3\n",
    "\\end{bmatrix}$$\n",
    "\n"
   ]
  },
  {
   "cell_type": "code",
   "execution_count": 2,
   "metadata": {
    "collapsed": false,
    "slideshow": {
     "slide_type": "subslide"
    }
   },
   "outputs": [
    {
     "data": {
      "text/plain": [
       "([<matplotlib.axis.YTick at 0x8445390>,\n",
       "  <matplotlib.axis.YTick at 0x8445630>,\n",
       "  <matplotlib.axis.YTick at 0x84450f0>,\n",
       "  <matplotlib.axis.YTick at 0x84ab160>,\n",
       "  <matplotlib.axis.YTick at 0x84b34a8>],\n",
       " <a list of 5 Text yticklabel objects>)"
      ]
     },
     "execution_count": 2,
     "metadata": {},
     "output_type": "execute_result"
    },
    {
     "data": {
      "image/png": "[encoded data removed]",
      "text/plain": [
       "<matplotlib.figure.Figure at 0x83e6ac8>"
      ]
     },
     "metadata": {},
     "output_type": "display_data"
    }
   ],
   "source": [
    "x = np.array([1,2,3])\n",
    "y = np.array([1,2,3])\n",
    "plt.plot(x,y,'ro')\n",
    "plt.axis([0,4,0,4])\n",
    "plt.xticks([0,1,2,3,4])\n",
    "plt.yticks([0,1,2,3,4])"
   ]
  },
  {
   "cell_type": "markdown",
   "metadata": {
    "slideshow": {
     "slide_type": "slide"
    }
   },
   "source": [
    "So what is a basic representation for this ??"
   ]
  },
  {
   "cell_type": "markdown",
   "metadata": {
    "slideshow": {
     "slide_type": "fragment"
    }
   },
   "source": [
    "Exactly !!\n",
    "$$ \n",
    "y = some\\ coofficient * x \\\\\n",
    "y = \\beta * x $$\n",
    "\n",
    "and we can represent y as $f(x)$ so\n",
    "$$ f(x) = \\beta * x $$"
   ]
  },
  {
   "cell_type": "markdown",
   "metadata": {
    "slideshow": {
     "slide_type": "slide"
    }
   },
   "source": [
    "# Cost function:\n"
   ]
  },
  {
   "cell_type": "markdown",
   "metadata": {
    "slideshow": {
     "slide_type": "fragment"
    }
   },
   "source": [
    "Why do we even need one?\n",
    "because we need a formalized representation. Why?\n",
    "\n",
    "something the computer can understand for what happening in our minds :D "
   ]
  },
  {
   "cell_type": "markdown",
   "metadata": {
    "slideshow": {
     "slide_type": "slide"
    }
   },
   "source": [
    "### let's invent our cost function:\n",
    "$$ cost = f(x) - y \\\\\n",
    "= \\big(\\ f(x) - y \\ \\big) ^ 2 \\\\\n",
    "= \\sum_{i = 0}^n \\big(\\ f(x_i) - y_i \\ \\big) ^ 2 \\\\\n",
    "= \\dfrac{1}{n} \\sum_{i = 0}^n \\big(\\ f(x_i) - y_i \\ \\big) ^ 2 \\\\\n",
    "= \\dfrac{1}{2n} \\sum_{i = 0}^n \\big(\\ f(x_i) - y_i \\ \\big) ^ 2\n",
    "$$\n",
    "\n",
    "so what is this? \n",
    "### Mean Square Error Cost Function\n"
   ]
  },
  {
   "cell_type": "markdown",
   "metadata": {
    "slideshow": {
     "slide_type": "slide"
    }
   },
   "source": [
    "## Minimize the Cost:"
   ]
  },
  {
   "cell_type": "markdown",
   "metadata": {
    "slideshow": {
     "slide_type": "fragment"
    }
   },
   "source": [
    "Our model: $ f(x) = \\beta + x $\n",
    "\n",
    "Our cost function: $ = \\dfrac{1}{2n} \\sum_{i = 0}^n \\big(\\ f(x_i) - y_i \\ \\big) ^ 2 $\n",
    "\n",
    "after subsstatution: $$ \\dfrac{1}{2n} \\sum_{i = 0}^n \\big(\\ (\\beta * x_i) - y_i \\ \\big) ^ 2 $$"
   ]
  },
  {
   "cell_type": "markdown",
   "metadata": {
    "collapsed": false,
    "slideshow": {
     "slide_type": "slide"
    }
   },
   "source": [
    "beta = np.arange(0,2.1,0.1)\n",
    "def cost(y, y_hat):\n",
    "    n = len(y)\n",
    "    return (((y_hat - y)**2).sum()) / n\n",
    "\n",
    "beta_applied = np.array([a*b for a,b in zip(beta,np.array([x,]*len(beta)))])\n",
    "loss = [cost(y, y_hat) for y_hat in beta_applied]\n",
    "plt.plot(beta,loss)\n",
    "plt.xlabel(r'$\\beta$')\n",
    "plt.ylabel('Loss')"
   ]
  },
  {
   "cell_type": "markdown",
   "metadata": {
    "slideshow": {
     "slide_type": "slide"
    }
   },
   "source": [
    "So again how to formalize that $\\beta$ should be 1\n",
    "\n",
    "how to search for the best $\\beta$?\n",
    "\n",
    "how to minmize the cost function using $\\beta$?\n",
    "\n",
    "$\\underset{\\beta}{\\operatorname{argmin}} \\dfrac{1}{2n} \\sum_{i = 0}^n \\big(\\ (\\beta * x_i) - y_i \\ \\big) ^ 2 $"
   ]
  },
  {
   "cell_type": "markdown",
   "metadata": {
    "slideshow": {
     "slide_type": "slide"
    }
   },
   "source": [
    "## Graident (derivative)"
   ]
  },
  {
   "cell_type": "code",
   "execution_count": 4,
   "metadata": {
    "collapsed": false,
    "slideshow": {
     "slide_type": "fragment"
    }
   },
   "outputs": [
    {
     "data": {
      "text/html": [
       "<img src=\"https://upload.wikimedia.org/wikipedia/commons/2/2d/Tangent_function_animation.gif\">"
      ],
      "text/plain": [
       "<IPython.core.display.HTML object>"
      ]
     },
     "execution_count": 4,
     "metadata": {},
     "output_type": "execute_result"
    }
   ],
   "source": [
    "display_gif(\"https://upload.wikimedia.org/wikipedia/commons/2/2d/Tangent_function_animation.gif\")"
   ]
  },
  {
   "cell_type": "markdown",
   "metadata": {
    "collapsed": true,
    "slideshow": {
     "slide_type": "subslide"
    }
   },
   "source": [
    "what is derivative?\n",
    "\n",
    "the $\\textbf{slope}$ of the $\\textbf{tangent line}$ to the graph of the function\n",
    "\n",
    "What is $\\textbf{tangent line}$? \n",
    "\n",
    "is the best linear approximation of the function near the input value. \n",
    "\n",
    "What is $\\textbf{slope}$? \n",
    "\n",
    "1. descripes the direction \n",
    "    1. if it is increasing then the slope is positive\n",
    "    2. if it is decreasing then the slope is negative\n",
    "2. descripes the steepness "
   ]
  },
  {
   "cell_type": "markdown",
   "metadata": {
    "slideshow": {
     "slide_type": "slide"
    }
   },
   "source": [
    "## What is Graident descent? \n",
    "Simplely it is updating the $\\beta$ or $\\textbf{Model Paramaters}$ values in the direction of the global minima using dervitatives (graident) \n",
    "\n",
    "\n",
    "$$\\beta_{new} = \\beta_{old}\\ \\textbf{-}\\ \\eta \\dfrac{df}{d\\beta}$$\n",
    "\n",
    "$$ \\dfrac{df}{d\\beta} = \\dfrac{1}{N} \\sum_{i = 0}^n x_i (\\beta x_i - y_i) $$\n",
    "\n"
   ]
  },
  {
   "cell_type": "code",
   "execution_count": 5,
   "metadata": {
    "collapsed": true,
    "slideshow": {
     "slide_type": "skip"
    }
   },
   "outputs": [],
   "source": [
    "def gradient_step(x, y, beta, learning_rate):\n",
    "    N = len(x)\n",
    "    diff = 1/N * np.sum( x * ((beta * x) - y))\n",
    "    return beta - (learning_rate * diff)"
   ]
  },
  {
   "cell_type": "code",
   "execution_count": 6,
   "metadata": {
    "collapsed": false,
    "slideshow": {
     "slide_type": "slide"
    }
   },
   "outputs": [
    {
     "name": "stdout",
     "output_type": "stream",
     "text": [
      "[2, 1.9533333333333334, 1.9088444444444446, 1.8664317037037039, 1.825998224197531, 1.7874516404016463, 1.7507038971829028, 1.7156710486477007, 1.6822730663774748, 1.6504336566131925, 1.6200800859712436, 1.5911430152925856, 1.5635563412455984, 1.5372570453208039, 1.5121850498724998, 1.4882830808784497]\n"
     ]
    },
    {
     "data": {
      "text/plain": [
       "<matplotlib.legend.Legend at 0x8b34e48>"
      ]
     },
     "execution_count": 6,
     "metadata": {},
     "output_type": "execute_result"
    },
    {
     "data": {
      "image/png": "[encoded data removed]",
      "text/plain": [
       "<matplotlib.figure.Figure at 0x88252b0>"
      ]
     },
     "metadata": {},
     "output_type": "display_data"
    }
   ],
   "source": [
    "eta = 0.01\n",
    "\n",
    "betas = [2]\n",
    "for i in range(15):\n",
    "    betas.append(gradient_step(x, y, betas[i], eta)) \n",
    "    \n",
    "\n",
    "beta_p_applied = np.array([a*b for a,b in zip(betas,np.array([x,]*len(beta)))])\n",
    "loss_p = [cost(y, y_hat) for y_hat in beta_p_applied]\n",
    "    \n",
    "print(betas)\n",
    "plt.plot(beta,loss)\n",
    "plt.plot(betas, loss_p,'-')\n",
    "plt.xlabel(r'$\\beta$')\n",
    "plt.ylabel('Loss')\n",
    "plt.legend(['Cost Function','Gradient'])"
   ]
  }
 ],
 "metadata": {
  "celltoolbar": "Slideshow",
  "kernelspec": {
   "display_name": "Python 3",
   "language": "python",
   "name": "python3"
  },
  "language_info": {
   "codemirror_mode": {
    "name": "ipython",
    "version": 3
   },
   "file_extension": ".py",
   "mimetype": "text/x-python",
   "name": "python",
   "nbconvert_exporter": "python",
   "pygments_lexer": "ipython3",
   "version": "3.6.0"
  }
 },
 "nbformat": 4,
 "nbformat_minor": 2
}
