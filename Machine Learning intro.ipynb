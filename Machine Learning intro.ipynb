{
 "cells": [
  {
   "cell_type": "code",
   "execution_count": 1,
   "metadata": {
    "collapsed": false
   },
   "outputs": [],
   "source": [
    "import numpy as np\n",
    "import matplotlib.pyplot as plt\n",
    "%matplotlib inline\n",
    "\n",
    "def display_gif(fn):\n",
    "    from IPython import display\n",
    "    return display.HTML('<img src=\"{}\">'.format(fn))"
   ]
  },
  {
   "cell_type": "markdown",
   "metadata": {},
   "source": [
    "# Is machine learning math a rocket science?! "
   ]
  },
  {
   "cell_type": "markdown",
   "metadata": {},
   "source": [
    "Any machine learning algorithm consist off:\n",
    "1. Model representation\n",
    "2. Cost function (target function) \n",
    "3. optimization function"
   ]
  },
  {
   "cell_type": "markdown",
   "metadata": {},
   "source": [
    "## Model representation: "
   ]
  },
  {
   "cell_type": "markdown",
   "metadata": {},
   "source": [
    "Assume the following:\n",
    "1. We have a house size: $x$\n",
    "2. a house price $y$\n",
    "$$ x = \\begin{bmatrix}\n",
    "    1 & 2 & 3\n",
    "\\end{bmatrix}$$\n",
    "\n",
    "$$ y = \\begin{bmatrix}\n",
    "    1 & 2 & 3\n",
    "\\end{bmatrix}$$\n",
    "\n"
   ]
  },
  {
   "cell_type": "code",
   "execution_count": 2,
   "metadata": {
    "collapsed": false
   },
   "outputs": [
    {
     "data": {
      "text/plain": [
       "([<matplotlib.axis.YTick at 0x84f45f8>,\n",
       "  <matplotlib.axis.YTick at 0x84f4630>,\n",
       "  <matplotlib.axis.YTick at 0x84eee80>,\n",
       "  <matplotlib.axis.YTick at 0x888a160>,\n",
       "  <matplotlib.axis.YTick at 0x888aef0>],\n",
       " <a list of 5 Text yticklabel objects>)"
      ]
     },
     "execution_count": 2,
     "metadata": {},
     "output_type": "execute_result"
    },
    {
     "data": {
      "image/png": "[encoded data removed]",
      "text/plain": [
       "<matplotlib.figure.Figure at 0x8484908>"
      ]
     },
     "metadata": {},
     "output_type": "display_data"
    }
   ],
   "source": [
    "x = np.array([1,2,3])\n",
    "y = np.array([1,2,3])\n",
    "plt.plot(x,y,'ro')\n",
    "plt.axis([0,4,0,4])\n",
    "plt.xticks([0,1,2,3,4])\n",
    "plt.yticks([0,1,2,3,4])"
   ]
  },
  {
   "cell_type": "markdown",
   "metadata": {},
   "source": [
    "So what is a basic representation for this ??"
   ]
  },
  {
   "cell_type": "markdown",
   "metadata": {},
   "source": [
    "Exactly !!\n",
    "$$ \n",
    "y = some\\ coofficient * x \\\\\n",
    "y = \\beta * x $$\n",
    "\n",
    "and we can represent y as $f(x)$ so\n",
    "$$ f(x) = \\beta * x $$"
   ]
  },
  {
   "cell_type": "markdown",
   "metadata": {},
   "source": [
    "# Cost function:\n"
   ]
  },
  {
   "cell_type": "markdown",
   "metadata": {},
   "source": [
    "Why do we even need one?\n",
    "because we need a formalized representation. Why?\n",
    "\n",
    "something the computer can understand for what happening in our minds :D "
   ]
  },
  {
   "cell_type": "markdown",
   "metadata": {},
   "source": [
    "### let's invent our cost function:\n",
    "$$ cost = f(x) - y \\\\\n",
    "= \\big(\\ f(x) - y \\ \\big) ^ 2 \\\\\n",
    "= \\sum_{i = 0}^n \\big(\\ f(x_i) - y_i \\ \\big) ^ 2 \\\\\n",
    "= \\dfrac{1}{n} \\sum_{i = 0}^n \\big(\\ f(x_i) - y_i \\ \\big) ^ 2 \\\\\n",
    "= \\dfrac{1}{2n} \\sum_{i = 0}^n \\big(\\ f(x_i) - y_i \\ \\big) ^ 2\n",
    "$$\n",
    "\n",
    "so what is this? \n",
    "### Mean Square Error Cost Function\n"
   ]
  },
  {
   "cell_type": "markdown",
   "metadata": {},
   "source": [
    "## Minimize the Cost:"
   ]
  },
  {
   "cell_type": "markdown",
   "metadata": {},
   "source": [
    "Our model: $ f(x) = \\beta + x $\n",
    "\n",
    "Our cost function: $ = \\dfrac{1}{2n} \\sum_{i = 0}^n \\big(\\ f(x_i) - y_i \\ \\big) ^ 2 $\n",
    "\n",
    "after subsstatution: $$ \\dfrac{1}{2n} \\sum_{i = 0}^n \\big(\\ (\\beta * x_i) - y_i \\ \\big) ^ 2 $$"
   ]
  },
  {
   "cell_type": "code",
   "execution_count": 3,
   "metadata": {
    "collapsed": false
   },
   "outputs": [
    {
     "data": {
      "text/plain": [
       "<matplotlib.text.Text at 0x88d97f0>"
      ]
     },
     "execution_count": 3,
     "metadata": {},
     "output_type": "execute_result"
    },
    {
     "data": {
      "image/png": "[encoded data removed]",
      "text/plain": [
       "<matplotlib.figure.Figure at 0x5208898>"
      ]
     },
     "metadata": {},
     "output_type": "display_data"
    }
   ],
   "source": [
    "beta = np.arange(0,2.1,0.1)\n",
    "def cost(y, y_hat):\n",
    "    n = len(y)\n",
    "    return (((y_hat - y)**2).sum()) / n\n",
    "\n",
    "beta_applied = np.array([a*b for a,b in zip(beta,np.array([x,]*len(beta)))])\n",
    "loss = [cost(y, y_hat) for y_hat in beta_applied]\n",
    "plt.plot(beta,loss)\n",
    "plt.xlabel(r'$\\beta$')\n",
    "plt.ylabel('Loss')"
   ]
  },
  {
   "cell_type": "markdown",
   "metadata": {},
   "source": [
    "So again how to formalize that $\\beta$ should be 1\n",
    "\n",
    "how to search for the best $\\beta$?\n",
    "\n",
    "how to minmize the cost function using $\\beta$?\n",
    "\n",
    "$\\underset{\\beta}{\\operatorname{argmin}} \\dfrac{1}{2n} \\sum_{i = 0}^n \\big(\\ (\\beta * x_i) - y_i \\ \\big) ^ 2 $"
   ]
  },
  {
   "cell_type": "markdown",
   "metadata": {},
   "source": [
    "## Graident (derivative)"
   ]
  },
  {
   "cell_type": "code",
   "execution_count": 4,
   "metadata": {
    "collapsed": false
   },
   "outputs": [
    {
     "data": {
      "text/html": [
       "<img src=\"https://upload.wikimedia.org/wikipedia/commons/2/2d/Tangent_function_animation.gif\">"
      ],
      "text/plain": [
       "<IPython.core.display.HTML object>"
      ]
     },
     "execution_count": 4,
     "metadata": {},
     "output_type": "execute_result"
    }
   ],
   "source": [
    "display_gif(\"https://upload.wikimedia.org/wikipedia/commons/2/2d/Tangent_function_animation.gif\")"
   ]
  },
  {
   "cell_type": "markdown",
   "metadata": {
    "collapsed": true
   },
   "source": [
    "what is derivative?\n",
    "\n",
    "the $\\textbf{slope}$ of the $\\textbf{tangent line}$ to the graph of the function\n",
    "\n",
    "What is $\\textbf{tangent line}$? \n",
    "\n",
    "is the best linear approximation of the function near the input value. \n",
    "\n",
    "What is $\\textbf{slope}$? \n",
    "\n",
    "1. descripes the direction \n",
    "    1. if it is increasing then the slope is positive\n",
    "    2. if it is decreasing then the slope is negative\n",
    "2. descripes the steepness "
   ]
  },
  {
   "cell_type": "markdown",
   "metadata": {},
   "source": [
    "## What is Graident descent? \n",
    "Simplely it is updating the $\\beta$ or $\\textbf{Model Paramaters}$ values in the direction of the global minima using dervitatives (graident) \n",
    "\n",
    "\n",
    "$$\\beta_{new} = \\beta_{old}\\ \\textbf{-}\\ \\eta \\dfrac{df}{d\\beta}$$\n",
    "\n",
    "$$ \\dfrac{df}{d\\beta} = \\dfrac{1}{N} \\sum_{i = 0}^n x_i (\\beta x_i - y_i) $$\n",
    "\n"
   ]
  },
  {
   "cell_type": "code",
   "execution_count": null,
   "metadata": {
    "collapsed": true
   },
   "outputs": [],
   "source": [
    "def gradient_step(x, y, beta, learning_rate):\n",
    "    N = len(x)\n",
    "    diff = 1/N * np.sum( x * ((beta * x) - y))\n",
    "    return beta - (learning_rate * diff)"
   ]
  },
  {
   "cell_type": "code",
   "execution_count": 27,
   "metadata": {
    "collapsed": false
   },
   "outputs": [
    {
     "name": "stdout",
     "output_type": "stream",
     "text": [
      "[2, 1.9953333333333334, 1.9906884444444446, 1.9860652317037037, 1.9814635939557532, 1.9768834305172931, 1.9723246411748792, 1.9677871261827298, 1.9632707862605436, 1.9587755225913277, 1.9543012368192347, 1.9498478310474117, 1.9454152078358571, 1.9410032701992896, 1.9366119216050264, 1.9322410659708695]\n"
     ]
    },
    {
     "data": {
      "text/plain": [
       "<matplotlib.text.Text at 0xa735828>"
      ]
     },
     "execution_count": 27,
     "metadata": {},
     "output_type": "execute_result"
    },
    {
     "data": {
      "image/png": "[encoded data removed]",
      "text/plain": [
       "<matplotlib.figure.Figure at 0xa818f98>"
      ]
     },
     "metadata": {},
     "output_type": "display_data"
    }
   ],
   "source": [
    "eta = 0.001\n",
    "\n",
    "betas = [2]\n",
    "for i in range(15):\n",
    "    betas.append(gradient_step(x, y, betas[i], eta)) \n",
    "    \n",
    "\n",
    "beta_p_applied = np.array([a*b for a,b in zip(betas,np.array([x,]*len(beta)))])\n",
    "loss_p = [cost(y, y_hat) for y_hat in beta_p_applied]\n",
    "    \n",
    "print(betas)\n",
    "plt.plot(beta,loss)\n",
    "plt.plot(betas, loss_p,'-')\n",
    "plt.xlabel(r'$\\beta$')\n",
    "plt.ylabel('Loss')"
   ]
  }
 ],
 "metadata": {
  "kernelspec": {
   "display_name": "Python 3",
   "language": "python",
   "name": "python3"
  },
  "language_info": {
   "codemirror_mode": {
    "name": "ipython",
    "version": 3
   },
   "file_extension": ".py",
   "mimetype": "text/x-python",
   "name": "python",
   "nbconvert_exporter": "python",
   "pygments_lexer": "ipython3",
   "version": "3.6.0"
  }
 },
 "nbformat": 4,
 "nbformat_minor": 2
}
