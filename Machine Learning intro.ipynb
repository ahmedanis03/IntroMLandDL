{
 "cells": [
  {
   "cell_type": "code",
   "execution_count": 29,
   "metadata": {
    "collapsed": false,
    "slideshow": {
     "slide_type": "skip"
    }
   },
   "outputs": [],
   "source": [
    "import numpy as np\n",
    "import matplotlib.pyplot as plt\n",
    "%matplotlib inline\n",
    "\n",
    "def display_gif(fn):\n",
    "    from IPython import display\n",
    "    return display.HTML('<img src=\"{}\">'.format(fn))"
   ]
  },
  {
   "cell_type": "markdown",
   "metadata": {
    "slideshow": {
     "slide_type": "slide"
    }
   },
   "source": [
    "# Is machine learning math a rocket science?! "
   ]
  },
  {
   "cell_type": "markdown",
   "metadata": {
    "slideshow": {
     "slide_type": "slide"
    }
   },
   "source": [
    "Any machine learning model consists off:\n",
    "1. Model representation\n",
    "2. Cost function (target function) \n",
    "3. optimization function"
   ]
  },
  {
   "cell_type": "markdown",
   "metadata": {
    "slideshow": {
     "slide_type": "slide"
    }
   },
   "source": [
    "## Model representation: "
   ]
  },
  {
   "cell_type": "markdown",
   "metadata": {
    "slideshow": {
     "slide_type": "fragment"
    }
   },
   "source": [
    "Assume the following:\n",
    "1. We have a house size: $x$\n",
    "2. a house price $y$\n",
    "$$ x = \\begin{bmatrix}\n",
    "    1 & 2 & 3\n",
    "\\end{bmatrix}$$\n",
    "\n",
    "$$ y = \\begin{bmatrix}\n",
    "    1 & 2 & 3\n",
    "\\end{bmatrix}$$\n",
    "\n"
   ]
  },
  {
   "cell_type": "code",
   "execution_count": 30,
   "metadata": {
    "collapsed": false,
    "slideshow": {
     "slide_type": "slide"
    }
   },
   "outputs": [
    {
     "data": {
      "text/plain": [
       "<matplotlib.text.Text at 0x7ff016fe8160>"
      ]
     },
     "execution_count": 30,
     "metadata": {},
     "output_type": "execute_result"
    },
    {
     "data": {
      "image/png": "[encoded data removed]",
      "text/plain": [
       "<matplotlib.figure.Figure at 0x7ff01702d470>"
      ]
     },
     "metadata": {},
     "output_type": "display_data"
    }
   ],
   "source": [
    "x = np.array([1,2,3])\n",
    "y = np.array([1,2,3])\n",
    "plt.plot(x,y,'ro')\n",
    "plt.axis([0,4,0,4])\n",
    "plt.xticks([0,1,2,3,4])\n",
    "plt.yticks([0,1,2,3,4])\n",
    "plt.xlabel(r'$x$')\n",
    "plt.ylabel(r'$y$')"
   ]
  },
  {
   "cell_type": "markdown",
   "metadata": {
    "slideshow": {
     "slide_type": "slide"
    }
   },
   "source": [
    "So what is a basic representation for this ??"
   ]
  },
  {
   "cell_type": "markdown",
   "metadata": {
    "slideshow": {
     "slide_type": "fragment"
    }
   },
   "source": [
    "\n",
    "$$ \n",
    "y = some\\ coofficient * x \\\\\n",
    "y = \\beta * x $$\n",
    "\n",
    "our predection as $f(x)$ so\n",
    "\n",
    "\n",
    "$$ f(x) = \\beta * x $$"
   ]
  },
  {
   "cell_type": "markdown",
   "metadata": {
    "slideshow": {
     "slide_type": "slide"
    }
   },
   "source": [
    "# Cost function:\n"
   ]
  },
  {
   "cell_type": "markdown",
   "metadata": {
    "slideshow": {
     "slide_type": "fragment"
    }
   },
   "source": [
    "### let's invent our cost function:\n",
    "$$ cost = f(x) - y $$"
   ]
  },
  {
   "cell_type": "markdown",
   "metadata": {
    "slideshow": {
     "slide_type": "fragment"
    }
   },
   "source": [
    "$$ = \\sum_{i = 0}^n \\big(\\ f(x) - y \\ \\big)  $$"
   ]
  },
  {
   "cell_type": "markdown",
   "metadata": {
    "slideshow": {
     "slide_type": "fragment"
    }
   },
   "source": [
    "$$ = \\sum_{i = 0}^n \\big(\\ f(x_i) - y_i \\ \\big) ^ 2 $$"
   ]
  },
  {
   "cell_type": "markdown",
   "metadata": {
    "slideshow": {
     "slide_type": "slide"
    }
   },
   "source": [
    "$$ = \\sum_{i = 0}^n \\big(\\ f(x_i) - y_i \\ \\big) ^ 2 $$"
   ]
  },
  {
   "cell_type": "markdown",
   "metadata": {
    "slideshow": {
     "slide_type": "fragment"
    }
   },
   "source": [
    "$$ = \\dfrac{1}{n} \\sum_{i = 0}^n \\big(\\ f(x_i) - y_i \\ \\big) ^ 2 $$"
   ]
  },
  {
   "cell_type": "markdown",
   "metadata": {
    "slideshow": {
     "slide_type": "fragment"
    }
   },
   "source": [
    "$$ = \\dfrac{1}{2n} \\sum_{i = 0}^n \\big(\\ f(x_i) - y_i \\ \\big) ^ 2 $$"
   ]
  },
  {
   "cell_type": "markdown",
   "metadata": {
    "slideshow": {
     "slide_type": "fragment"
    }
   },
   "source": [
    "so what is this? "
   ]
  },
  {
   "cell_type": "markdown",
   "metadata": {
    "slideshow": {
     "slide_type": "fragment"
    }
   },
   "source": [
    "### Mean Square Error Cost Function"
   ]
  },
  {
   "cell_type": "markdown",
   "metadata": {
    "slideshow": {
     "slide_type": "slide"
    }
   },
   "source": [
    "## Minimize the Cost:"
   ]
  },
  {
   "cell_type": "markdown",
   "metadata": {
    "slideshow": {
     "slide_type": "fragment"
    }
   },
   "source": [
    "Our model:   $$ f(x) = \\beta + x $$\n",
    "\n",
    "Our cost function:   $$ = \\dfrac{1}{2n} \\sum_{i = 0}^n \\big(\\ f(x_i) - y_i \\ \\big) ^ 2 $$\n",
    "\n",
    "after substitution:   $$ \\dfrac{1}{2n} \\sum_{i = 0}^n \\big(\\ (\\beta * x_i) - y_i \\ \\big) ^ 2 $$"
   ]
  },
  {
   "cell_type": "markdown",
   "metadata": {
    "slideshow": {
     "slide_type": "slide"
    }
   },
   "source": [
    "$$ \\dfrac{1}{2n} \\sum_{i = 0}^n \\big(\\ (\\beta * x_i) - y_i \\ \\big) ^ 2 $$"
   ]
  },
  {
   "cell_type": "code",
   "execution_count": 31,
   "metadata": {
    "collapsed": false,
    "slideshow": {
     "slide_type": "fragment"
    }
   },
   "outputs": [
    {
     "data": {
      "text/plain": [
       "<matplotlib.text.Text at 0x7ff016f35940>"
      ]
     },
     "execution_count": 31,
     "metadata": {},
     "output_type": "execute_result"
    },
    {
     "data": {
      "image/png": "[encoded data removed]",
      "text/plain": [
       "<matplotlib.figure.Figure at 0x7ff016f203c8>"
      ]
     },
     "metadata": {},
     "output_type": "display_data"
    }
   ],
   "source": [
    "beta = np.arange(0,2.1,0.1)\n",
    "def cost(y, y_hat):\n",
    "    n = len(y)\n",
    "    return (((y_hat - y)**2).sum()) / (2 * n)\n",
    "\n",
    "beta_applied = np.array([a*b for a,b in zip(beta,np.array([x,]*len(beta)))])\n",
    "loss = [cost(y, y_hat) for y_hat in beta_applied]\n",
    "plt.plot(beta,loss)\n",
    "plt.xlabel(r'$\\beta$')\n",
    "plt.ylabel('Loss')"
   ]
  },
  {
   "cell_type": "markdown",
   "metadata": {
    "slideshow": {
     "slide_type": "slide"
    }
   },
   "source": [
    "So again how to formalize that $\\beta$ should be 1\n",
    "\n",
    "how to search for the best $\\beta$?\n",
    "\n",
    "how to minimize the cost function using $\\beta$?\n",
    "\n",
    "$\\underset{\\beta}{\\operatorname{argmin}} \\dfrac{1}{2n} \\sum_{i = 0}^n \\big(\\ (\\beta * x_i) - y_i \\ \\big) ^ 2 $"
   ]
  },
  {
   "cell_type": "markdown",
   "metadata": {
    "slideshow": {
     "slide_type": "slide"
    }
   },
   "source": [
    "## derivative ( Gradient )"
   ]
  },
  {
   "cell_type": "code",
   "execution_count": 32,
   "metadata": {
    "collapsed": false,
    "slideshow": {
     "slide_type": "fragment"
    }
   },
   "outputs": [
    {
     "data": {
      "text/html": [
       "<img src=\"https://upload.wikimedia.org/wikipedia/commons/2/2d/Tangent_function_animation.gif\">"
      ],
      "text/plain": [
       "<IPython.core.display.HTML object>"
      ]
     },
     "execution_count": 32,
     "metadata": {},
     "output_type": "execute_result"
    }
   ],
   "source": [
    "display_gif(\"https://upload.wikimedia.org/wikipedia/commons/2/2d/Tangent_function_animation.gif\")"
   ]
  },
  {
   "cell_type": "markdown",
   "metadata": {
    "collapsed": true,
    "slideshow": {
     "slide_type": "slide"
    }
   },
   "source": [
    "what is derivative?\n",
    "\n",
    "the $\\textbf{slope}$ of the $\\textbf{tangent line}$ to the graph of the function\n",
    "\n",
    "What is $\\textbf{tangent line}$? \n",
    "\n",
    "is the best linear approximation of the function near the input value. \n",
    "\n",
    "What is $\\textbf{slope}$? \n",
    "\n",
    "1. describes the direction \n",
    "    1. if it is increasing then the slope is positive\n",
    "    2. if it is decreasing then the slope is negative\n",
    "2. describes the steepness "
   ]
  },
  {
   "cell_type": "markdown",
   "metadata": {
    "slideshow": {
     "slide_type": "slide"
    }
   },
   "source": [
    "## What is Gradient Parameters descent? \n",
    "Simply it is updating the $\\beta$ or $\\textbf{Model Parameters}$ values in the direction of the global minima using derivatives (gradient) \n",
    "\n",
    "\n",
    "$$\\beta_{new} = \\beta_{old}\\ \\textbf{-}\\ \\eta \\dfrac{df}{d\\beta}$$\n",
    "\n",
    "$$ \\dfrac{df}{d\\beta} = \\dfrac{1}{N} \\sum_{i = 0}^n x_i (\\beta x_i - y_i) $$\n",
    "\n"
   ]
  },
  {
   "cell_type": "code",
   "execution_count": 33,
   "metadata": {
    "collapsed": true,
    "slideshow": {
     "slide_type": "skip"
    }
   },
   "outputs": [],
   "source": [
    "def gradient_step(x, y, beta, learning_rate):\n",
    "    N = len(x)\n",
    "    diff = 1/N * np.sum( x * ((beta * x) - y))\n",
    "    return beta - (learning_rate * diff)"
   ]
  },
  {
   "cell_type": "code",
   "execution_count": 34,
   "metadata": {
    "collapsed": false,
    "slideshow": {
     "slide_type": "slide"
    }
   },
   "outputs": [
    {
     "name": "stdout",
     "output_type": "stream",
     "text": [
      "[2, 0.60000000000000031, 1.1599999999999997, 0.93600000000000017, 1.0255999999999998, 0.98976000000000008, 1.0040959999999999, 0.99836159999999996, 1.0006553600000001, 0.99973785599999998, 1.0001048576]\n"
     ]
    },
    {
     "data": {
      "text/plain": [
       "<matplotlib.legend.Legend at 0x7ff016f26be0>"
      ]
     },
     "execution_count": 34,
     "metadata": {},
     "output_type": "execute_result"
    },
    {
     "data": {
      "image/png": "[encoded data removed]",
      "text/plain": [
       "<matplotlib.figure.Figure at 0x7ff016ea3208>"
      ]
     },
     "metadata": {},
     "output_type": "display_data"
    }
   ],
   "source": [
    "eta = 0.3\n",
    "number_of_function_calls = 10\n",
    "\n",
    "betas = [2]\n",
    "for i in range(number_of_function_calls):\n",
    "    betas.append(gradient_step(x, y, betas[i], eta)) \n",
    "    \n",
    "beta_p_applied = np.array([a*b for a,b in zip(betas,np.array([x,]*len(betas)))])\n",
    "loss_p = [cost(y, y_hat) for y_hat in beta_p_applied]\n",
    "print(betas)\n",
    "plt.plot(beta,loss)\n",
    "plt.plot(betas, loss_p,'-')\n",
    "plt.xlabel(r'$\\beta$')\n",
    "plt.ylabel('Loss')\n",
    "plt.legend(['Cost Function','Gradient'])"
   ]
  }
 ],
 "metadata": {
  "anaconda-cloud": {},
  "celltoolbar": "Slideshow",
  "kernelspec": {
   "display_name": "Python [conda env:py352]",
   "language": "python",
   "name": "conda-env-py352-py"
  },
  "language_info": {
   "codemirror_mode": {
    "name": "ipython",
    "version": 3
   },
   "file_extension": ".py",
   "mimetype": "text/x-python",
   "name": "python",
   "nbconvert_exporter": "python",
   "pygments_lexer": "ipython3",
   "version": "3.5.2"
  }
 },
 "nbformat": 4,
 "nbformat_minor": 2
}
